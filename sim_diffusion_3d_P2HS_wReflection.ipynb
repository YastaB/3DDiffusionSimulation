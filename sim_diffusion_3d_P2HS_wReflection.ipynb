{
 "cells": [
  {
   "cell_type": "code",
   "execution_count": 18,
   "metadata": {
    "collapsed": true
   },
   "outputs": [],
   "source": [
    "import numpy as np\n",
    "import math "
   ]
  },
  {
   "cell_type": "code",
   "execution_count": 19,
   "metadata": {
    "collapsed": true
   },
   "outputs": [],
   "source": [
    "# constant variables in order to calculate the random movements of MMs\n",
    "NUM_OF_MESSENGERS = 10000\n",
    "DIFF_COEFFICIENT = 79.4\n",
    "TIME_STEP = 0.0001 \n",
    "SYMBOL_DURATION = 2\n",
    "ITERATION_COUNT = SYMBOL_DURATION / TIME_STEP\n",
    "DISTANCE = 10\n",
    "# environment constants\n",
    "d = 10 # nanometers\n",
    "# random number generator params.\n",
    "mean = 0 \n",
    "sigma =  math.sqrt(2 * DIFF_COEFFICIENT * TIME_STEP) # standard deviation\n"
   ]
  },
  {
   "cell_type": "code",
   "execution_count": 27,
   "metadata": {
    "collapsed": true
   },
   "outputs": [],
   "source": [
    "# set initial positions \n",
    "mm_positionx = np.zeros(NUM_OF_MESSENGERS)\n",
    "mm_positiony = np.zeros(NUM_OF_MESSENGERS)\n",
    "mm_positionz = np.zeros(NUM_OF_MESSENGERS)\n"
   ]
  },
  {
   "cell_type": "code",
   "execution_count": 28,
   "metadata": {},
   "outputs": [],
   "source": [
    "reached_molecules_counts = []\n",
    "# reached_molecules\n",
    "for i in range(int(20)):\n",
    "    total = 0\n",
    "    for j in range(int(1000)):\n",
    "        # calculate random variables using normal distribution\n",
    "        rnd_moves_x = np.random.normal(mean, sigma, NUM_OF_MESSENGERS)\n",
    "        rnd_moves_y = np.random.normal(mean, sigma, NUM_OF_MESSENGERS)\n",
    "        rnd_moves_z = np.random.normal(mean, sigma, NUM_OF_MESSENGERS)\n",
    "        # move messenger molecules\n",
    "        mm_positionx = np.add(mm_positionx, rnd_moves_x)\n",
    "        mm_positiony = np.add(mm_positiony, rnd_moves_y)\n",
    "        mm_positionz = np.add(mm_positionz, rnd_moves_z)\n",
    "        # check x position\n",
    "        reached_molecules_count = np.sum(np.where(mm_positionx >= 10.0, 1, 0))\n",
    "        # mark the reached ones by setting x pos to minimum\n",
    "        mm_positionx = np.where(mm_positionx >= 10.0, -10000, mm_positionx)\n",
    "        # append the total reached MMs in TIMESTEP\n",
    "        total += reached_molecules_count\n",
    "    reached_molecules_counts.append(total)\n"
   ]
  },
  {
   "cell_type": "code",
   "execution_count": 29,
   "metadata": {
    "collapsed": true,
    "scrolled": false
   },
   "outputs": [],
   "source": [
    "# plot the results...\n",
    "%matplotlib inline\n",
    "import matplotlib.pyplot as plt\n"
   ]
  },
  {
   "cell_type": "code",
   "execution_count": 30,
   "metadata": {},
   "outputs": [
    {
     "data": {
      "text/plain": [
       "[<matplotlib.lines.Line2D at 0x119313588>]"
      ]
     },
     "execution_count": 30,
     "metadata": {},
     "output_type": "execute_result"
    },
    {
     "data": {
      "image/png": "[encoded data removed]",
      "text/plain": [
       "<matplotlib.figure.Figure at 0x118f5de10>"
      ]
     },
     "metadata": {},
     "output_type": "display_data"
    }
   ],
   "source": [
    "plt.figure()\n",
    "plt.plot(reached_molecules_counts)"
   ]
  },
  {
   "cell_type": "code",
   "execution_count": null,
   "metadata": {
    "collapsed": true
   },
   "outputs": [],
   "source": []
  }
 ],
 "metadata": {
  "kernelspec": {
   "display_name": "Python 3",
   "language": "python",
   "name": "python3"
  },
  "language_info": {
   "codemirror_mode": {
    "name": "ipython",
    "version": 3
   },
   "file_extension": ".py",
   "mimetype": "text/x-python",
   "name": "python",
   "nbconvert_exporter": "python",
   "pygments_lexer": "ipython3",
   "version": "3.6.2"
  }
 },
 "nbformat": 4,
 "nbformat_minor": 2
}
